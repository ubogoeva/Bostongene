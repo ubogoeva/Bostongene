{
 "cells": [
  {
   "cell_type": "code",
   "execution_count": 19,
   "metadata": {},
   "outputs": [],
   "source": [
    "import requests\n",
    "import pandas as pd\n",
    "import io\n",
    "import os\n",
    "\n",
    "#upload data to cloud\n",
    "url = 'https://www.cbioportal.org/webservice.do'\n",
    "all_genes_df = pd.read_csv('../data/Mutated_Genes.tsv', sep = '\\t')\n",
    "genes_filtered = all_genes_df[all_genes_df ['MutSig(Q-value)'].notnull()].iloc[:, 0]"
   ]
  },
  {
   "cell_type": "code",
   "execution_count": 20,
   "metadata": {},
   "outputs": [],
   "source": [
    "#define function to parse data from portal to pandas dataframe\n",
    "def parse_data(req_result):\n",
    "    f = io.StringIO(req_result.text)\n",
    "    df = []\n",
    "    for line in f.readlines():\n",
    "        line = line.replace('\\n', '')\n",
    "        if line.startswith('#'):\n",
    "            continue               \n",
    "        elif line.startswith('entrez'):    \n",
    "            columns = line.split('\\t')\n",
    "        else:\n",
    "            df.append(line.split('\\t'))\n",
    "    parsed_data = pd.DataFrame(df, columns = columns)\n",
    "    return parsed_data"
   ]
  },
  {
   "cell_type": "code",
   "execution_count": 21,
   "metadata": {},
   "outputs": [
    {
     "name": "stdout",
     "output_type": "stream",
     "text": [
      "200 TP53\t200 FAT1\t200 CDKN2A\t200 PIK3CA\t200 NOTCH1\t200 NSD1\t200 CASP8\t200 EP300\t200 FBXW7\t200 HRAS\t200 HLA-A\t200 NFE2L2\t200 EPHA2\t200 HLA-B\t200 TGFBR2\t200 C6\t200 ZNF750\t200 POM121L12\t200 KEAP1\t200 ITGA8\t200 ZNF99\t200 PDE10A\t200 ZNF676\t200 PRB2\t200 RASA1\t200 NPFFR2\t200 FCRL4\t200 OR2M5\t200 EYA1\t200 CUL3\t200 OR5D13\t200 OR6C65\t200 PSG8\t200 LCP1\t200 SMAD4\t200 MEF2C\t200 PTEN\t200 RAC1\t200 SPATA16\t200 DPPA2\t200 AGTR1\t200 CD1E\t200 RARG\t200 REG1A\t200 AK5\t200 NEK5\t200 POTEG\t200 ZNF716\t200 OR8J3\t200 KHDRBS2\t200 OR5L1\t200 RHOA\t200 DOK6\t200 KIR3DL2\t200 MAPK1\t200 EPDR1\t200 OR2M2\t200 B2M\t200 REG1B\t200 NXPH1\t200 OR4K5\t200 LIN28B\t200 HIST1H3C\t200 RSRC1\t200 KRT17\t200 HIST1H2BG\t200 TRIM43\t200 HBG2\t200 NRF1\t200 CBWD1\t200 P2RY11\t200 ALKAL1\t200 GATA2\t200 NEDD8\t200 ULK2\t\n",
      " data loaded successfully\n"
     ]
    }
   ],
   "source": [
    "hnsc_maf = pd.DataFrame()\n",
    "for gene in genes_filtered:\n",
    "    payload = {'cmd': 'getMutationData', 'genetic_profile_id':'hnsc_tcga_mutations', 'gene_list': gene}\n",
    "    r = requests.get(url, params=payload)\n",
    "    print(r.status_code ,gene, end='\\t')\n",
    "    temp_df = parse_data(r)\n",
    "    hnsc_maf = hnsc_maf.append(temp_df)\n",
    "hnsc_maf.to_csv('../data/genes_sign_mutsig.csv', index = False)\n",
    "print('\\n', 'data loaded successfully')"
   ]
  },
  {
   "cell_type": "code",
   "execution_count": null,
   "metadata": {},
   "outputs": [],
   "source": []
  },
  {
   "cell_type": "code",
   "execution_count": null,
   "metadata": {},
   "outputs": [],
   "source": []
  }
 ],
 "metadata": {
  "kernelspec": {
   "display_name": "Python 3",
   "language": "python",
   "name": "python3"
  },
  "language_info": {
   "codemirror_mode": {
    "name": "ipython",
    "version": 3
   },
   "file_extension": ".py",
   "mimetype": "text/x-python",
   "name": "python",
   "nbconvert_exporter": "python",
   "pygments_lexer": "ipython3",
   "version": "3.6.4"
  }
 },
 "nbformat": 4,
 "nbformat_minor": 2
}
