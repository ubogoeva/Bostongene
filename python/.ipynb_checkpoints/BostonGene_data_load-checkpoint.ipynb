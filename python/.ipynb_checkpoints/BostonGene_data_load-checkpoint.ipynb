{
 "cells": [
  {
   "cell_type": "code",
   "execution_count": 16,
   "metadata": {},
   "outputs": [
    {
     "name": "stdout",
     "output_type": "stream",
     "text": [
      "hello world\n"
     ]
    }
   ],
   "source": [
    "import requests\n",
    "import pandas as pd\n",
    "import io\n",
    "import os\n",
    "\n",
    "#upload data to cloud\n",
    "url = 'https://www.cbioportal.org/webservice.do'\n",
    "all_genes_df = pd.read_csv('../data/Mutated_Genes.tsv', sep = '\\t')\n",
    "genes_filtered = all_genes_df[all_genes_df ['MutSig(Q-value)'].notnull()].iloc[:, 0]"
   ]
  },
  {
   "cell_type": "code",
   "execution_count": 15,
   "metadata": {},
   "outputs": [],
   "source": [
    "#define function to parse data from portal to pandas dataframe\n",
    "def parse_data(req_result):\n",
    "    f = io.StringIO(req_result.text)\n",
    "    df = []\n",
    "    for line in f.readlines():\n",
    "        line = line.replace('\\n', '')\n",
    "        if line.startswith('#'):\n",
    "            continue               \n",
    "        elif line.startswith('entrez'):    \n",
    "            columns = line.split('\\t')\n",
    "        else:\n",
    "            df.append(line.split('\\t'))\n",
    "    parsed_data = pd.DataFrame(df, columns = columns)\n",
    "    return parsed_data"
   ]
  },
  {
   "cell_type": "code",
   "execution_count": 18,
   "metadata": {},
   "outputs": [
    {
     "name": "stdout",
     "output_type": "stream",
     "text": [
      "\n",
      " data loaded successfully\n"
     ]
    }
   ],
   "source": [
    "hnsc_maf = pd.DataFrame()\n",
    "for gene in genes_filtered:\n",
    "    payload = {'cmd': 'getMutationData', 'genetic_profile_id':'hnsc_tcga_mutations', 'gene_list': gene}\n",
    "    r = requests.get(url, params=payload)\n",
    "    print(r.status_code ,gene, end='\\t')\n",
    "    temp_df = parse_data(r)\n",
    "    hnsc_maf = hnsc_maf.append(temp_df)\n",
    "hnsc_maf.to_csv('../data/genes_sign_mutsig.csv', index = False)\n",
    "print('\\n', 'data loaded successfully')"
   ]
  },
  {
   "cell_type": "code",
   "execution_count": null,
   "metadata": {},
   "outputs": [],
   "source": []
  },
  {
   "cell_type": "code",
   "execution_count": null,
   "metadata": {},
   "outputs": [],
   "source": []
  }
 ],
 "metadata": {
  "kernelspec": {
   "display_name": "Python 3",
   "language": "python",
   "name": "python3"
  },
  "language_info": {
   "codemirror_mode": {
    "name": "ipython",
    "version": 3
   },
   "file_extension": ".py",
   "mimetype": "text/x-python",
   "name": "python",
   "nbconvert_exporter": "python",
   "pygments_lexer": "ipython3",
   "version": "3.6.4"
  }
 },
 "nbformat": 4,
 "nbformat_minor": 2
}
